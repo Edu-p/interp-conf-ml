{
 "cells": [
  {
   "cell_type": "code",
   "execution_count": 118,
   "id": "381fb48d-5cdb-463e-8c86-5d75a15818f3",
   "metadata": {},
   "outputs": [],
   "source": [
    "import pandas as pd\n",
    "import os\n",
    "import seaborn as sns\n",
    "\n",
    "from sklearn.preprocessing import LabelEncoder\n"
   ]
  },
  {
   "cell_type": "code",
   "execution_count": 119,
   "id": "4dab6d4e-0cc2-41e8-a179-71bc2cf86208",
   "metadata": {},
   "outputs": [],
   "source": [
    "path_raw = os.getenv('PATH_RAW')\n",
    "df = pd.read_csv('../data/scraped_data.csv', sep=',')\n",
    "# df = pd.read_csv(path_raw, sep=',')"
   ]
  },
  {
   "cell_type": "code",
   "execution_count": 120,
   "id": "23cd6d90-8465-447f-9ce7-d6f8b4c1ed5a",
   "metadata": {},
   "outputs": [],
   "source": [
    "df_0 = df.copy()"
   ]
  },
  {
   "cell_type": "code",
   "execution_count": 121,
   "id": "c0888bb7-f86c-45e5-88df-a668f0f0d850",
   "metadata": {},
   "outputs": [],
   "source": [
    "df_0 = df_0.drop_duplicates()\n",
    "df_0 = df_0.dropna()\n",
    "\n",
    "df_0 = df_0[df_0['n_quartos'] != '5 ou mais']\n",
    "df_0 = df_0[df_0['n_banheiros'] != '5 ou mais']\n",
    "df_0 = df_0[df_0['n_garagens'] != '5 ou mais']\n",
    "\n",
    "df_0 = df_0[(df_0['find_price'] > 200000) & (df_0['find_price'] < 1000000)]"
   ]
  },
  {
   "cell_type": "code",
   "execution_count": 122,
   "id": "dbd54ecc-0680-4c44-a867-973b2cbce17c",
   "metadata": {
    "scrolled": true
   },
   "outputs": [
    {
     "name": "stderr",
     "output_type": "stream",
     "text": [
      "C:\\Users\\Thamires\\AppData\\Local\\Temp\\ipykernel_9940\\1173680375.py:1: UserWarning: \n",
      "\n",
      "`distplot` is a deprecated function and will be removed in seaborn v0.14.0.\n",
      "\n",
      "Please adapt your code to use either `displot` (a figure-level function with\n",
      "similar flexibility) or `histplot` (an axes-level function for histograms).\n",
      "\n",
      "For a guide to updating your code to use the new functions, please see\n",
      "https://gist.github.com/mwaskom/de44147ed2974457ad6372750bbe5751\n",
      "\n",
      "  sns.distplot(df_0['find_price'])\n",
      "C:\\Users\\Thamires\\anaconda3\\Lib\\site-packages\\seaborn\\_oldcore.py:1119: FutureWarning: use_inf_as_na option is deprecated and will be removed in a future version. Convert inf values to NaN before operating instead.\n",
      "  with pd.option_context('mode.use_inf_as_na', True):\n"
     ]
    },
    {
     "data": {
      "text/plain": [
       "<Axes: xlabel='find_price', ylabel='Density'>"
      ]
     },
     "execution_count": 122,
     "metadata": {},
     "output_type": "execute_result"
    },
    {
     "data": {
      "image/png": "[encoded data removed]",
      "text/plain": [
       "<Figure size 640x480 with 1 Axes>"
      ]
     },
     "metadata": {},
     "output_type": "display_data"
    }
   ],
   "source": [
    "sns.distplot(df_0['find_price'])"
   ]
  },
  {
   "cell_type": "code",
   "execution_count": 123,
   "id": "2fae7c52-c9e9-443b-8608-0305d8f1f564",
   "metadata": {},
   "outputs": [],
   "source": [
    "df_0['expensive'] = df_0['find_price'].apply(lambda x: 1 if x>400000 else 0)"
   ]
  },
  {
   "cell_type": "code",
   "execution_count": 124,
   "id": "92a9ac4f-68e0-4205-b2e7-63f44c2f64f2",
   "metadata": {
    "scrolled": true
   },
   "outputs": [
    {
     "data": {
      "text/plain": [
       "expensive\n",
       "1    0.642581\n",
       "0    0.357419\n",
       "Name: proportion, dtype: float64"
      ]
     },
     "execution_count": 124,
     "metadata": {},
     "output_type": "execute_result"
    }
   ],
   "source": [
    "df_0['expensive'].value_counts(normalize=True)"
   ]
  },
  {
   "cell_type": "code",
   "execution_count": 125,
   "id": "be473eb2-5318-4eac-bf45-b9d7e9b77da9",
   "metadata": {},
   "outputs": [],
   "source": [
    "df_0[['Bairro']] = df_0['find_endereco'].str.split(', ', expand=True)[[0]]"
   ]
  },
  {
   "cell_type": "code",
   "execution_count": 126,
   "id": "4a13abaa-ce98-43a3-a905-8b133a274115",
   "metadata": {},
   "outputs": [],
   "source": [
    "df_0 = df_0.drop(['find_anuncio','find_descri','find_loc','find_vendedor','find_endereco','is_ar_condicionado','is_profissional','n_fotos'], axis=1)"
   ]
  },
  {
   "cell_type": "code",
   "execution_count": 127,
   "id": "c060d2c8-592e-4bdd-8a79-6c582a3bb74d",
   "metadata": {},
   "outputs": [
    {
     "data": {
      "text/html": [
       "<div>\n",
       "<style scoped>\n",
       "    .dataframe tbody tr th:only-of-type {\n",
       "        vertical-align: middle;\n",
       "    }\n",
       "\n",
       "    .dataframe tbody tr th {\n",
       "        vertical-align: top;\n",
       "    }\n",
       "\n",
       "    .dataframe thead th {\n",
       "        text-align: right;\n",
       "    }\n",
       "</style>\n",
       "<table border=\"1\" class=\"dataframe\">\n",
       "  <thead>\n",
       "    <tr style=\"text-align: right;\">\n",
       "      <th></th>\n",
       "      <th>find_condominio</th>\n",
       "      <th>find_iptu</th>\n",
       "      <th>find_m_quadrado</th>\n",
       "      <th>find_price</th>\n",
       "      <th>is_academia</th>\n",
       "      <th>is_apertamento</th>\n",
       "      <th>is_churrasqueira</th>\n",
       "      <th>is_elevador</th>\n",
       "      <th>is_mobiliado</th>\n",
       "      <th>is_piscina</th>\n",
       "      <th>is_portaria</th>\n",
       "      <th>is_salao_festa</th>\n",
       "      <th>is_varanda</th>\n",
       "      <th>n_banheiros</th>\n",
       "      <th>n_garagens</th>\n",
       "      <th>n_quartos</th>\n",
       "      <th>expensive</th>\n",
       "      <th>Bairro</th>\n",
       "    </tr>\n",
       "  </thead>\n",
       "  <tbody>\n",
       "    <tr>\n",
       "      <th>0</th>\n",
       "      <td>R$ 1.100 / mês</td>\n",
       "      <td>R$ 180</td>\n",
       "      <td>105m²</td>\n",
       "      <td>380000</td>\n",
       "      <td>False</td>\n",
       "      <td>True</td>\n",
       "      <td>False</td>\n",
       "      <td>False</td>\n",
       "      <td>False</td>\n",
       "      <td>False</td>\n",
       "      <td>False</td>\n",
       "      <td>False</td>\n",
       "      <td>False</td>\n",
       "      <td>3</td>\n",
       "      <td>0</td>\n",
       "      <td>3</td>\n",
       "      <td>0</td>\n",
       "      <td>Aflitos</td>\n",
       "    </tr>\n",
       "  </tbody>\n",
       "</table>\n",
       "</div>"
      ],
      "text/plain": [
       "  find_condominio find_iptu find_m_quadrado  find_price  is_academia  \\\n",
       "0  R$ 1.100 / mês    R$ 180           105m²      380000        False   \n",
       "\n",
       "   is_apertamento  is_churrasqueira  is_elevador  is_mobiliado  is_piscina  \\\n",
       "0            True             False        False         False       False   \n",
       "\n",
       "   is_portaria  is_salao_festa  is_varanda n_banheiros n_garagens n_quartos  \\\n",
       "0        False           False       False           3          0         3   \n",
       "\n",
       "   expensive   Bairro  \n",
       "0          0  Aflitos  "
      ]
     },
     "execution_count": 127,
     "metadata": {},
     "output_type": "execute_result"
    }
   ],
   "source": [
    "df_0.head(1)"
   ]
  },
  {
   "cell_type": "code",
   "execution_count": 128,
   "id": "b43e69fb-b299-409d-a56f-55f0e2946a58",
   "metadata": {},
   "outputs": [],
   "source": [
    "# deixando como num a coluna find_condominio\n",
    "df_0['find_condominio'] = df_0['find_condominio'].astype('str').str.replace('R$', '').str.replace(' / mês', '').str.replace('.', '')\n",
    "\n",
    "# deixando como num a coluna find_iptu\n",
    "df_0['find_iptu'] = df_0['find_iptu'].astype('str').str.replace('R$ ', '').str.replace('.', '')\n",
    "\n",
    "# deixando como num a coluna find_m_quadrado\n",
    "df_0['find_m_quadrado'] = df_0['find_m_quadrado'].astype('str').str.replace('m²', '').str.replace('.', '')\n",
    "\n",
    "# cast direto colunas(floats devido a conseguir dar cast em NaN)\n",
    "df_0['find_condominio'] = df_0['find_condominio'].astype('float')\n",
    "df_0['find_iptu'] = df_0['find_iptu'].astype('float')\n",
    "df_0['Bairro'] = df_0['Bairro'].astype('category')\n",
    "df_0['find_m_quadrado'] = df_0['find_m_quadrado'].astype('float')\n",
    "df_0['find_price'] = df_0['find_price'].astype('float')\n",
    "df_0['is_academia'] = df_0['is_academia'].astype('int')\n",
    "df_0['is_apertamento'] = df_0['is_apertamento'].astype('int')\n",
    "#df_0['is_ar_condicionado'] = df_0['is_ar_condicionado'].astype('int')\n",
    "df_0['is_churrasqueira'] = df_0['is_churrasqueira'].astype('int')\n",
    "df_0['is_elevador'] = df_0['is_elevador'].astype('int')\n",
    "df_0['is_mobiliado'] = df_0['is_mobiliado'].astype('int')\n",
    "df_0['is_piscina'] = df_0['is_piscina'].astype('int')\n",
    "df_0['is_portaria'] = df_0['is_portaria'].astype('int')\n",
    "#df_0['is_profissional'] = df_0['is_profissional'].astype('int')\n",
    "df_0['is_salao_festa'] = df_0['is_salao_festa'].astype('int')\n",
    "df_0['is_varanda'] = df_0['is_varanda'].astype('int')\n",
    "df_0['n_banheiros'] = df_0['n_banheiros'].astype('int')\n",
    "#df_0['n_fotos'] = df_0['n_fotos'].astype('int')\n",
    "df_0['n_garagens'] = df_0['n_garagens'].astype('int')\n",
    "df_0['n_quartos'] = df_0['n_quartos'].astype('int')"
   ]
  },
  {
   "cell_type": "code",
   "execution_count": 129,
   "id": "a8286074-0db0-49a4-a62e-0bc0b809e4b1",
   "metadata": {},
   "outputs": [],
   "source": [
    "df_0['Bairro'] = df_0['Bairro'].cat.codes"
   ]
  },
  {
   "cell_type": "code",
   "execution_count": 130,
   "id": "136941a1-b6a7-463d-bb19-004edb2c324c",
   "metadata": {},
   "outputs": [],
   "source": [
    "df_0 = df_0.drop(columns=['find_price'])"
   ]
  },
  {
   "cell_type": "code",
   "execution_count": 131,
   "id": "dc72db63-35c3-4547-8973-d3002c402568",
   "metadata": {},
   "outputs": [
    {
     "data": {
      "text/plain": [
       "['find_condominio',\n",
       " 'find_iptu',\n",
       " 'find_m_quadrado',\n",
       " 'is_academia',\n",
       " 'is_apertamento',\n",
       " 'is_churrasqueira',\n",
       " 'is_elevador',\n",
       " 'is_mobiliado',\n",
       " 'is_piscina',\n",
       " 'is_portaria',\n",
       " 'is_salao_festa',\n",
       " 'is_varanda',\n",
       " 'n_banheiros',\n",
       " 'n_garagens',\n",
       " 'n_quartos',\n",
       " 'expensive',\n",
       " 'Bairro']"
      ]
     },
     "execution_count": 131,
     "metadata": {},
     "output_type": "execute_result"
    }
   ],
   "source": [
    "list(df_0.columns)"
   ]
  },
  {
   "cell_type": "code",
   "execution_count": 132,
   "id": "5c6ebe1d-2917-4287-88cd-3a9dbe8e80e5",
   "metadata": {},
   "outputs": [
    {
     "name": "stdout",
     "output_type": "stream",
     "text": [
      "53461\n",
      "42662\n"
     ]
    }
   ],
   "source": [
    "print(len(df_0))\n",
    "for col in ['find_condominio', 'find_m_quadrado', 'find_iptu']:\n",
    "    q1 = df_0[col].quantile(q=0.25)\n",
    "    q3 = df_0[col].quantile(q=0.75)\n",
    "    iqr = q3 - q1\n",
    "    \n",
    "    df_0 = df_0[(df_0[col] > (q1-1.5*iqr)) & (df_0[col] < (q3+1.5*iqr))]\n",
    "print(len(df_0))"
   ]
  },
  {
   "cell_type": "code",
   "execution_count": 135,
   "id": "746e9816-1daa-4e35-b030-b8124411dfd9",
   "metadata": {},
   "outputs": [],
   "source": [
    "df_0 = df_0.sample(20000)"
   ]
  },
  {
   "cell_type": "code",
   "execution_count": 136,
   "id": "2b3cbd0a-2c52-4d89-b7f1-f05b87fe7bd8",
   "metadata": {},
   "outputs": [
    {
     "data": {
      "text/html": [
       "<div>\n",
       "<style scoped>\n",
       "    .dataframe tbody tr th:only-of-type {\n",
       "        vertical-align: middle;\n",
       "    }\n",
       "\n",
       "    .dataframe tbody tr th {\n",
       "        vertical-align: top;\n",
       "    }\n",
       "\n",
       "    .dataframe thead th {\n",
       "        text-align: right;\n",
       "    }\n",
       "</style>\n",
       "<table border=\"1\" class=\"dataframe\">\n",
       "  <thead>\n",
       "    <tr style=\"text-align: right;\">\n",
       "      <th></th>\n",
       "      <th>find_condominio</th>\n",
       "      <th>find_iptu</th>\n",
       "      <th>find_m_quadrado</th>\n",
       "      <th>is_academia</th>\n",
       "      <th>is_apertamento</th>\n",
       "      <th>is_churrasqueira</th>\n",
       "      <th>is_elevador</th>\n",
       "      <th>is_mobiliado</th>\n",
       "      <th>is_piscina</th>\n",
       "      <th>is_portaria</th>\n",
       "      <th>is_salao_festa</th>\n",
       "      <th>is_varanda</th>\n",
       "      <th>n_banheiros</th>\n",
       "      <th>n_garagens</th>\n",
       "      <th>n_quartos</th>\n",
       "      <th>expensive</th>\n",
       "      <th>Bairro</th>\n",
       "    </tr>\n",
       "  </thead>\n",
       "  <tbody>\n",
       "    <tr>\n",
       "      <th>count</th>\n",
       "      <td>20000.000000</td>\n",
       "      <td>20000.000000</td>\n",
       "      <td>20000.000000</td>\n",
       "      <td>20000.000000</td>\n",
       "      <td>20000.000000</td>\n",
       "      <td>20000.000000</td>\n",
       "      <td>20000.000000</td>\n",
       "      <td>20000.000000</td>\n",
       "      <td>20000.000000</td>\n",
       "      <td>20000.000000</td>\n",
       "      <td>20000.000000</td>\n",
       "      <td>20000.000000</td>\n",
       "      <td>20000.000000</td>\n",
       "      <td>20000.00000</td>\n",
       "      <td>20000.000000</td>\n",
       "      <td>20000.000000</td>\n",
       "      <td>20000.000000</td>\n",
       "    </tr>\n",
       "    <tr>\n",
       "      <th>mean</th>\n",
       "      <td>328.807450</td>\n",
       "      <td>76.662250</td>\n",
       "      <td>68.030000</td>\n",
       "      <td>0.505250</td>\n",
       "      <td>0.985850</td>\n",
       "      <td>0.474700</td>\n",
       "      <td>0.729950</td>\n",
       "      <td>0.068150</td>\n",
       "      <td>0.694900</td>\n",
       "      <td>0.663950</td>\n",
       "      <td>0.670450</td>\n",
       "      <td>0.339650</td>\n",
       "      <td>1.599650</td>\n",
       "      <td>1.23065</td>\n",
       "      <td>2.353700</td>\n",
       "      <td>0.609150</td>\n",
       "      <td>34.191050</td>\n",
       "    </tr>\n",
       "    <tr>\n",
       "      <th>std</th>\n",
       "      <td>420.058745</td>\n",
       "      <td>119.621583</td>\n",
       "      <td>28.528314</td>\n",
       "      <td>0.499985</td>\n",
       "      <td>0.118112</td>\n",
       "      <td>0.499372</td>\n",
       "      <td>0.443996</td>\n",
       "      <td>0.252009</td>\n",
       "      <td>0.460461</td>\n",
       "      <td>0.472368</td>\n",
       "      <td>0.470062</td>\n",
       "      <td>0.473602</td>\n",
       "      <td>0.750399</td>\n",
       "      <td>0.46061</td>\n",
       "      <td>0.784045</td>\n",
       "      <td>0.487953</td>\n",
       "      <td>26.481044</td>\n",
       "    </tr>\n",
       "    <tr>\n",
       "      <th>min</th>\n",
       "      <td>-1.000000</td>\n",
       "      <td>-1.000000</td>\n",
       "      <td>0.000000</td>\n",
       "      <td>0.000000</td>\n",
       "      <td>0.000000</td>\n",
       "      <td>0.000000</td>\n",
       "      <td>0.000000</td>\n",
       "      <td>0.000000</td>\n",
       "      <td>0.000000</td>\n",
       "      <td>0.000000</td>\n",
       "      <td>0.000000</td>\n",
       "      <td>0.000000</td>\n",
       "      <td>0.000000</td>\n",
       "      <td>0.00000</td>\n",
       "      <td>0.000000</td>\n",
       "      <td>0.000000</td>\n",
       "      <td>0.000000</td>\n",
       "    </tr>\n",
       "    <tr>\n",
       "      <th>25%</th>\n",
       "      <td>0.000000</td>\n",
       "      <td>0.000000</td>\n",
       "      <td>47.000000</td>\n",
       "      <td>0.000000</td>\n",
       "      <td>1.000000</td>\n",
       "      <td>0.000000</td>\n",
       "      <td>0.000000</td>\n",
       "      <td>0.000000</td>\n",
       "      <td>0.000000</td>\n",
       "      <td>0.000000</td>\n",
       "      <td>0.000000</td>\n",
       "      <td>0.000000</td>\n",
       "      <td>1.000000</td>\n",
       "      <td>1.00000</td>\n",
       "      <td>2.000000</td>\n",
       "      <td>0.000000</td>\n",
       "      <td>10.000000</td>\n",
       "    </tr>\n",
       "    <tr>\n",
       "      <th>50%</th>\n",
       "      <td>1.000000</td>\n",
       "      <td>1.000000</td>\n",
       "      <td>62.000000</td>\n",
       "      <td>1.000000</td>\n",
       "      <td>1.000000</td>\n",
       "      <td>0.000000</td>\n",
       "      <td>1.000000</td>\n",
       "      <td>0.000000</td>\n",
       "      <td>1.000000</td>\n",
       "      <td>1.000000</td>\n",
       "      <td>1.000000</td>\n",
       "      <td>0.000000</td>\n",
       "      <td>1.000000</td>\n",
       "      <td>1.00000</td>\n",
       "      <td>2.000000</td>\n",
       "      <td>1.000000</td>\n",
       "      <td>22.000000</td>\n",
       "    </tr>\n",
       "    <tr>\n",
       "      <th>75%</th>\n",
       "      <td>650.000000</td>\n",
       "      <td>149.000000</td>\n",
       "      <td>86.000000</td>\n",
       "      <td>1.000000</td>\n",
       "      <td>1.000000</td>\n",
       "      <td>1.000000</td>\n",
       "      <td>1.000000</td>\n",
       "      <td>0.000000</td>\n",
       "      <td>1.000000</td>\n",
       "      <td>1.000000</td>\n",
       "      <td>1.000000</td>\n",
       "      <td>1.000000</td>\n",
       "      <td>2.000000</td>\n",
       "      <td>1.00000</td>\n",
       "      <td>3.000000</td>\n",
       "      <td>1.000000</td>\n",
       "      <td>54.000000</td>\n",
       "    </tr>\n",
       "    <tr>\n",
       "      <th>max</th>\n",
       "      <td>1850.000000</td>\n",
       "      <td>570.000000</td>\n",
       "      <td>152.000000</td>\n",
       "      <td>1.000000</td>\n",
       "      <td>1.000000</td>\n",
       "      <td>1.000000</td>\n",
       "      <td>1.000000</td>\n",
       "      <td>1.000000</td>\n",
       "      <td>1.000000</td>\n",
       "      <td>1.000000</td>\n",
       "      <td>1.000000</td>\n",
       "      <td>1.000000</td>\n",
       "      <td>4.000000</td>\n",
       "      <td>4.00000</td>\n",
       "      <td>4.000000</td>\n",
       "      <td>1.000000</td>\n",
       "      <td>87.000000</td>\n",
       "    </tr>\n",
       "  </tbody>\n",
       "</table>\n",
       "</div>"
      ],
      "text/plain": [
       "       find_condominio     find_iptu  find_m_quadrado   is_academia  \\\n",
       "count     20000.000000  20000.000000     20000.000000  20000.000000   \n",
       "mean        328.807450     76.662250        68.030000      0.505250   \n",
       "std         420.058745    119.621583        28.528314      0.499985   \n",
       "min          -1.000000     -1.000000         0.000000      0.000000   \n",
       "25%           0.000000      0.000000        47.000000      0.000000   \n",
       "50%           1.000000      1.000000        62.000000      1.000000   \n",
       "75%         650.000000    149.000000        86.000000      1.000000   \n",
       "max        1850.000000    570.000000       152.000000      1.000000   \n",
       "\n",
       "       is_apertamento  is_churrasqueira   is_elevador  is_mobiliado  \\\n",
       "count    20000.000000      20000.000000  20000.000000  20000.000000   \n",
       "mean         0.985850          0.474700      0.729950      0.068150   \n",
       "std          0.118112          0.499372      0.443996      0.252009   \n",
       "min          0.000000          0.000000      0.000000      0.000000   \n",
       "25%          1.000000          0.000000      0.000000      0.000000   \n",
       "50%          1.000000          0.000000      1.000000      0.000000   \n",
       "75%          1.000000          1.000000      1.000000      0.000000   \n",
       "max          1.000000          1.000000      1.000000      1.000000   \n",
       "\n",
       "         is_piscina   is_portaria  is_salao_festa    is_varanda   n_banheiros  \\\n",
       "count  20000.000000  20000.000000    20000.000000  20000.000000  20000.000000   \n",
       "mean       0.694900      0.663950        0.670450      0.339650      1.599650   \n",
       "std        0.460461      0.472368        0.470062      0.473602      0.750399   \n",
       "min        0.000000      0.000000        0.000000      0.000000      0.000000   \n",
       "25%        0.000000      0.000000        0.000000      0.000000      1.000000   \n",
       "50%        1.000000      1.000000        1.000000      0.000000      1.000000   \n",
       "75%        1.000000      1.000000        1.000000      1.000000      2.000000   \n",
       "max        1.000000      1.000000        1.000000      1.000000      4.000000   \n",
       "\n",
       "        n_garagens     n_quartos     expensive        Bairro  \n",
       "count  20000.00000  20000.000000  20000.000000  20000.000000  \n",
       "mean       1.23065      2.353700      0.609150     34.191050  \n",
       "std        0.46061      0.784045      0.487953     26.481044  \n",
       "min        0.00000      0.000000      0.000000      0.000000  \n",
       "25%        1.00000      2.000000      0.000000     10.000000  \n",
       "50%        1.00000      2.000000      1.000000     22.000000  \n",
       "75%        1.00000      3.000000      1.000000     54.000000  \n",
       "max        4.00000      4.000000      1.000000     87.000000  "
      ]
     },
     "execution_count": 136,
     "metadata": {},
     "output_type": "execute_result"
    }
   ],
   "source": [
    "df_0.describe()"
   ]
  },
  {
   "cell_type": "code",
   "execution_count": 137,
   "id": "5a56476f-2c79-43db-ab67-214bb07936d9",
   "metadata": {},
   "outputs": [
    {
     "name": "stdout",
     "output_type": "stream",
     "text": [
      "C:\\Users\\Thamires\\Desktop\\Edu repos\\interp-conf-ml\\notebooks\n"
     ]
    }
   ],
   "source": [
    "!cd"
   ]
  },
  {
   "cell_type": "code",
   "execution_count": 138,
   "id": "b87ed5ae-8fec-4bab-a773-fdfa7c322c73",
   "metadata": {},
   "outputs": [],
   "source": [
    "df_0.to_csv('../data/to_split.csv')"
   ]
  }
 ],
 "metadata": {
  "kernelspec": {
   "display_name": "Python 3 (ipykernel)",
   "language": "python",
   "name": "python3"
  },
  "language_info": {
   "codemirror_mode": {
    "name": "ipython",
    "version": 3
   },
   "file_extension": ".py",
   "mimetype": "text/x-python",
   "name": "python",
   "nbconvert_exporter": "python",
   "pygments_lexer": "ipython3",
   "version": "3.11.7"
  }
 },
 "nbformat": 4,
 "nbformat_minor": 5
}
