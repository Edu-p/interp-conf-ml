{
 "cells": [
  {
   "cell_type": "markdown",
   "metadata": {},
   "source": [
    "# 0. Imports"
   ]
  },
  {
   "cell_type": "code",
   "execution_count": 91,
   "metadata": {
    "id": "0i15VLlm_7i1"
   },
   "outputs": [],
   "source": [
    "import pandas as pd\n",
    "import numpy as np\n",
    "\n",
    "from dotenv import load_dotenv\n",
    "load_dotenv()\n",
    "import os\n",
    "\n",
    "from sklearn.model_selection import train_test_split"
   ]
  },
  {
   "cell_type": "code",
   "execution_count": 92,
   "metadata": {},
   "outputs": [],
   "source": [
    "target_col = 'expensive'"
   ]
  },
  {
   "cell_type": "markdown",
   "metadata": {
    "id": "50ciUuz8AzmY"
   },
   "source": [
    "# 1. Lendo base"
   ]
  },
  {
   "cell_type": "code",
   "execution_count": 93,
   "metadata": {
    "colab": {
     "base_uri": "https://localhost:8080/",
     "height": 585
    },
    "id": "gYMmeoa-Ajvb",
    "outputId": "e3f6a2e0-e7de-40e5-a535-890d431f17a3"
   },
   "outputs": [],
   "source": [
    "path_raw = os.getenv('PATH_TO_SPLIT')\n",
    "df = pd.read_csv(path_raw, sep=',')\n",
    "# df = pd.read_csv(path_raw, sep=',')"
   ]
  },
  {
   "cell_type": "code",
   "execution_count": 94,
   "metadata": {},
   "outputs": [],
   "source": [
    "df = df.drop(columns=['Unnamed: 0'])"
   ]
  },
  {
   "cell_type": "code",
   "execution_count": 95,
   "metadata": {
    "id": "pC4Faexbwdqh"
   },
   "outputs": [],
   "source": [
    "df_0 = df.copy()"
   ]
  },
  {
   "cell_type": "markdown",
   "metadata": {},
   "source": [
    "# 2. Dividindo entre treino e teste"
   ]
  },
  {
   "cell_type": "code",
   "execution_count": 96,
   "metadata": {},
   "outputs": [],
   "source": [
    "df_1 = df_0.copy() "
   ]
  },
  {
   "cell_type": "code",
   "execution_count": 97,
   "metadata": {
    "id": "ST3lKq4TBThC",
    "scrolled": true
   },
   "outputs": [],
   "source": [
    "X = df_1.drop(columns=[target_col])\n",
    "y = df_1[target_col]\n",
    "\n",
    "# Separando os dados em treinamento(75%) e teste(25%)\n",
    "X_train, X_test, y_train, y_test = train_test_split(X, y, test_size=0.25, stratify=y)"
   ]
  },
  {
   "cell_type": "markdown",
   "metadata": {},
   "source": [
    "# 3. Treinamento"
   ]
  },
  {
   "cell_type": "markdown",
   "metadata": {
    "id": "kAxsebcgJzdz"
   },
   "source": [
    "## Decision Tree"
   ]
  },
  {
   "cell_type": "code",
   "execution_count": 113,
   "metadata": {},
   "outputs": [
    {
     "name": "stdout",
     "output_type": "stream",
     "text": [
      "Fitting 5 folds for each of 576 candidates, totalling 2880 fits\n"
     ]
    }
   ],
   "source": [
    "from sklearn.model_selection import GridSearchCV\n",
    "param_grid = {\n",
    "    'criterion': ['gini', 'entropy'],\n",
    "    'splitter': ['best', 'random'],\n",
    "    'max_depth': [None, 10, 20, 30],\n",
    "    'min_samples_split': [2, 5, 10],\n",
    "    'min_samples_leaf': [1, 2, 4],\n",
    "    'max_features': [None, 'auto', 'sqrt', 'log2']\n",
    "}\n",
    "\n",
    "grid_search = GridSearchCV(estimator=dt, param_grid=param_grid, cv=5, n_jobs=-1, verbose=2)\n",
    "\n",
    "grid_search.fit(X_train, y_train)\n",
    "best_model = grid_search.best_estimator_"
   ]
  },
  {
   "cell_type": "code",
   "execution_count": 116,
   "metadata": {
    "scrolled": true
   },
   "outputs": [],
   "source": [
    "# from sklearn.tree import plot_tree\n",
    "# plot_tree(best_model, feature_names=list(X_train.columns))"
   ]
  },
  {
   "cell_type": "code",
   "execution_count": 118,
   "metadata": {
    "colab": {
     "base_uri": "https://localhost:8080/",
     "height": 1000
    },
    "id": "SC9nLMDdJ4_3",
    "outputId": "443d0b26-0d19-4ef8-d2aa-4b5395078ad9",
    "scrolled": true
   },
   "outputs": [
    {
     "name": "stdout",
     "output_type": "stream",
     "text": [
      "Accuracy: 0.53\n"
     ]
    },
    {
     "data": {
      "image/png": "[encoded data removed]",
      "text/plain": [
       "<Figure size 640x480 with 2 Axes>"
      ]
     },
     "metadata": {},
     "output_type": "display_data"
    },
    {
     "name": "stdout",
     "output_type": "stream",
     "text": [
      "Classification Report:\n",
      "              precision    recall  f1-score   support\n",
      "\n",
      "           0       0.35      0.39      0.37      1770\n",
      "           1       0.65      0.61      0.63      3230\n",
      "\n",
      "    accuracy                           0.53      5000\n",
      "   macro avg       0.50      0.50      0.50      5000\n",
      "weighted avg       0.54      0.53      0.54      5000\n",
      "\n"
     ]
    }
   ],
   "source": [
    "from sklearn.metrics import accuracy_score, confusion_matrix, classification_report\n",
    "import matplotlib.pyplot as plt\n",
    "from sklearn.metrics import ConfusionMatrixDisplay\n",
    "\n",
    "y_pred = best_model.predict(X_test)\n",
    "\n",
    "# Calculate accuracy\n",
    "accuracy = accuracy_score(Y_test, y_pred)\n",
    "print(f'Accuracy: {accuracy:.2f}')\n",
    "\n",
    "# Compute the confusion matrix\n",
    "cm = confusion_matrix(Y_test, y_pred)\n",
    "\n",
    "# Display the confusion matrix\n",
    "disp = ConfusionMatrixDisplay(confusion_matrix=cm)\n",
    "disp.plot()\n",
    "\n",
    "# Show the plot\n",
    "plt.show()\n",
    "\n",
    "# Print classification report\n",
    "print('Classification Report:')\n",
    "print(classification_report(Y_test, y_pred))"
   ]
  },
  {
   "cell_type": "markdown",
   "metadata": {
    "id": "zQtg1RABJSSO"
   },
   "source": [
    "## Random forest"
   ]
  },
  {
   "cell_type": "code",
   "execution_count": 110,
   "metadata": {
    "id": "8ar4ovj39Irl"
   },
   "outputs": [],
   "source": [
    "from sklearn.ensemble import RandomForestClassifier\n",
    "rf = RandomForestClassifier().fit(X_train, Y_train)"
   ]
  },
  {
   "cell_type": "code",
   "execution_count": 111,
   "metadata": {
    "id": "NA37ZT-NGfGQ"
   },
   "outputs": [],
   "source": [
    "y_pred = rf.predict(X_test)"
   ]
  },
  {
   "cell_type": "code",
   "execution_count": 112,
   "metadata": {
    "colab": {
     "base_uri": "https://localhost:8080/",
     "height": 910
    },
    "id": "o-9HejEXGyEy",
    "outputId": "294fb3ec-e050-481a-bb29-ad442d3d0ac7"
   },
   "outputs": [
    {
     "name": "stdout",
     "output_type": "stream",
     "text": [
      "Accuracy: 0.59\n"
     ]
    },
    {
     "data": {
      "image/png": "[encoded data removed]",
      "text/plain": [
       "<Figure size 640x480 with 2 Axes>"
      ]
     },
     "metadata": {},
     "output_type": "display_data"
    },
    {
     "name": "stdout",
     "output_type": "stream",
     "text": [
      "Classification Report:\n",
      "              precision    recall  f1-score   support\n",
      "\n",
      "           0       0.36      0.21      0.26      1770\n",
      "           1       0.65      0.80      0.71      3230\n",
      "\n",
      "    accuracy                           0.59      5000\n",
      "   macro avg       0.50      0.50      0.49      5000\n",
      "weighted avg       0.54      0.59      0.55      5000\n",
      "\n"
     ]
    }
   ],
   "source": [
    "from sklearn.ensemble import RandomForestClassifier\n",
    "from sklearn.metrics import accuracy_score, confusion_matrix, classification_report\n",
    "import matplotlib.pyplot as plt\n",
    "from sklearn.metrics import confusion_matrix, ConfusionMatrixDisplay\n",
    "\n",
    "# Calculate accuracy\n",
    "accuracy = accuracy_score(Y_test, y_pred)\n",
    "print(f'Accuracy: {accuracy:.2f}')\n",
    "\n",
    "# Compute the confusion matrix\n",
    "cm = confusion_matrix(Y_test, y_pred)\n",
    "\n",
    "# Display the confusion matrix\n",
    "disp = ConfusionMatrixDisplay(confusion_matrix=cm)\n",
    "disp.plot()\n",
    "\n",
    "# Show the plot\n",
    "plt.show()\n",
    "\n",
    "# Print classification report\n",
    "print('Classification Report:')\n",
    "print(classification_report(Y_test, y_pred))"
   ]
  },
  {
   "cell_type": "markdown",
   "metadata": {
    "id": "tKAdXHDBKyZ5"
   },
   "source": [
    "### logist regression"
   ]
  },
  {
   "cell_type": "code",
   "execution_count": null,
   "metadata": {
    "id": "Dge4TVb2K0qL"
   },
   "outputs": [],
   "source": [
    "from sklearn.linear_model import LogisticRegression\n",
    "from sklearn.pipeline import make_pipeline\n",
    "from sklearn.preprocessing import StandardScaler\n",
    "\n",
    "# lr = make_pipeline(StandardScaler(), LogisticRegression())\n",
    "\n",
    "lr = LogisticRegression(max_iter = 20000)\n",
    "\n",
    "lr.fit(X_train, Y_train)\n",
    "\n",
    "y_pred = lr.predict(X_test)"
   ]
  },
  {
   "cell_type": "code",
   "execution_count": null,
   "metadata": {
    "colab": {
     "base_uri": "https://localhost:8080/"
    },
    "id": "cb4Mmh0_LsrE",
    "outputId": "e63a68c3-2a76-4414-b9ae-c19d5268691e"
   },
   "outputs": [
    {
     "name": "stdout",
     "output_type": "stream",
     "text": [
      "Accuracy: 0.20\n"
     ]
    },
    {
     "data": {
      "image/png": "[encoded data removed]",
      "text/plain": [
       "<Figure size 640x480 with 2 Axes>"
      ]
     },
     "metadata": {},
     "output_type": "display_data"
    },
    {
     "name": "stdout",
     "output_type": "stream",
     "text": [
      "Classification Report:\n",
      "              precision    recall  f1-score   support\n",
      "\n",
      "           0       0.15      0.04      0.06        78\n",
      "           1       0.24      0.43      0.31       142\n",
      "           2       0.17      0.09      0.12       150\n",
      "           3       0.21      0.33      0.26       203\n",
      "           4       0.24      0.57      0.34       216\n",
      "           5       0.14      0.02      0.03       169\n",
      "           6       0.08      0.01      0.02       116\n",
      "           7       0.09      0.02      0.03       101\n",
      "           8       0.00      0.00      0.00        68\n",
      "           9       0.13      0.17      0.15        83\n",
      "          10       0.17      0.25      0.20        75\n",
      "          11       0.08      0.05      0.06        74\n",
      "          12       0.00      0.00      0.00        26\n",
      "          13       0.03      0.02      0.03        46\n",
      "          14       0.00      0.00      0.00        29\n",
      "          15       0.22      0.22      0.22        41\n",
      "\n",
      "    accuracy                           0.20      1617\n",
      "   macro avg       0.12      0.14      0.11      1617\n",
      "weighted avg       0.15      0.20      0.15      1617\n",
      "\n"
     ]
    }
   ],
   "source": [
    "from sklearn.ensemble import RandomForestClassifier\n",
    "from sklearn.metrics import accuracy_score, confusion_matrix, classification_report\n",
    "import matplotlib.pyplot as plt\n",
    "\n",
    "# Calculate accuracy\n",
    "accuracy = accuracy_score(Y_test, y_pred)\n",
    "print(f'Accuracy: {accuracy:.2f}')\n",
    "\n",
    "# Compute the confusion matrix\n",
    "cm = confusion_matrix(Y_test, y_pred)\n",
    "\n",
    "# Display the confusion matrix\n",
    "disp = ConfusionMatrixDisplay(confusion_matrix=cm)\n",
    "disp.plot()\n",
    "\n",
    "# Show the plot\n",
    "plt.show()\n",
    "\n",
    "# Print classification report\n",
    "print('Classification Report:')\n",
    "print(classification_report(Y_test, y_pred))"
   ]
  },
  {
   "cell_type": "code",
   "execution_count": null,
   "metadata": {
    "colab": {
     "base_uri": "https://localhost:8080/"
    },
    "id": "qj3tWyS9j_mt",
    "outputId": "712142e4-d1bd-43dd-944e-4c8437f8b828"
   },
   "outputs": [
    {
     "name": "stdout",
     "output_type": "stream",
     "text": [
      "Top-2 Accuracy: 0.35374149659863946\n"
     ]
    }
   ],
   "source": [
    "from sklearn.metrics import top_k_accuracy_score\n",
    "\n",
    "# Calculate top-2 accuracy\n",
    "y_prob = lr.predict_proba(X_test)\n",
    "top2_accuracy = top_k_accuracy_score(Y_test, y_prob, k=2)\n",
    "print(f\"Top-2 Accuracy: {top2_accuracy}\")"
   ]
  },
  {
   "cell_type": "markdown",
   "metadata": {
    "id": "bX8sJ8MHJPdI"
   },
   "source": [
    "### MLP"
   ]
  },
  {
   "cell_type": "code",
   "execution_count": null,
   "metadata": {
    "id": "XSAB5-My52Kp"
   },
   "outputs": [],
   "source": [
    "from sklearn.neural_network import MLPClassifier\n",
    "from sklearn.model_selection import GridSearchCV\n",
    "\n",
    "mlp = MLPClassifier()\n",
    "#y_pred = mlp.predict(X_test)\n",
    "\n",
    "param_grid = {\n",
    "    'hidden_layer_sizes': [(128, 128,64),(128, 64)],\n",
    "    'activation': ['relu', 'tanh'],\n",
    "    'solver': ['adam', 'sgd'],\n",
    "    'alpha': [0.0001, 0.001],\n",
    "}\n",
    "\n",
    "# Perform grid search with cross-validation\n",
    "grid_search = GridSearchCV(mlp, param_grid, cv=5, n_jobs=-1)\n",
    "grid_search.fit(X_train, Y_train)\n",
    "mlp = grid_search.best_estimator_"
   ]
  },
  {
   "cell_type": "code",
   "execution_count": null,
   "metadata": {
    "id": "uxSYtfR98vSg"
   },
   "outputs": [],
   "source": [
    "from sklearn.neural_network import MLPClassifier\n",
    "from sklearn.metrics import confusion_matrix, ConfusionMatrixDisplay\n",
    "import matplotlib.pyplot as plt\n",
    "\n",
    "# Compute the confusion matrix\n",
    "cm = confusion_matrix(Y_test, y_pred)\n",
    "\n",
    "# Display the confusion matrix\n",
    "disp = ConfusionMatrixDisplay(confusion_matrix=cm)\n",
    "disp.plot()\n",
    "\n",
    "# Show the plot\n",
    "plt.show()"
   ]
  },
  {
   "cell_type": "code",
   "execution_count": null,
   "metadata": {
    "id": "tGNUGpaZC7Al"
   },
   "outputs": [],
   "source": [
    "\n",
    "# Print the loss curve\n",
    "plt.plot(mlp.loss_curve_)\n",
    "plt.title('Loss Curve')\n",
    "plt.xlabel('Iterations')\n",
    "plt.ylabel('Loss')\n",
    "plt.show()\n",
    "\n",
    "# Print training statistics\n",
    "print(\"Training statistics:\")\n",
    "print(f\"Number of iterations: {mlp.n_iter_}\")\n",
    "print(f\"Number of layers: {mlp.n_layers_}\")\n",
    "print(f\"Number of outputs: {mlp.n_outputs_}\")\n",
    "print(f\"Activation function: {mlp.activation}\")\n",
    "print(f\"Learning rate: {mlp.learning_rate}\")\n",
    "\n",
    "# Print training accuracy\n",
    "train_accuracy = mlp.score(X_train, Y_train)\n",
    "print(f\"Training Accuracy: {train_accuracy:.2f}\")"
   ]
  },
  {
   "cell_type": "code",
   "execution_count": null,
   "metadata": {
    "id": "P-QLtQYQhIol"
   },
   "outputs": [],
   "source": [
    "from sklearn.metrics import top_k_accuracy_score\n",
    "\n",
    "# Calculate top-2 accuracy\n",
    "y_prob = mlp.predict_proba(X_test)\n",
    "top2_accuracy = top_k_accuracy_score(Y_test, y_prob, k=2)\n",
    "print(f\"Top-2 Accuracy: {top2_accuracy}\")"
   ]
  },
  {
   "cell_type": "markdown",
   "metadata": {
    "id": "Du-pKCO6nUSO"
   },
   "source": [
    "## Analise Random FLorest"
   ]
  },
  {
   "cell_type": "markdown",
   "metadata": {
    "id": "q9yBy1u7ufMP"
   },
   "source": [
    "Primeiro devemos notar que a acuracia top2 do random florest, nosso melhor modelo, foi de 0,55 o que, intuitivamente, parece baixo. Uma valor top2 quer dizer que é considerado correto a isntancia que estiver com maior ou segundo maior score, dado pelo modelo. Ou seja, uma variação de 100 mil reais! Acho que um ser humano, com menor numero de features, é capaz de acertar com mais precisão"
   ]
  },
  {
   "cell_type": "code",
   "execution_count": null,
   "metadata": {
    "id": "cXwmoDYLzULF"
   },
   "outputs": [],
   "source": [
    "from sklearn.inspection import permutation_importance\n",
    "import matplotlib.pyplot as plt\n",
    "\n",
    "result = permutation_importance(rf, X_test, Y_test ,n_repeats=100, random_state=0)\n",
    "\n",
    "forest_importances = pd.Series(result.importances_mean, index=X.columns)\n",
    "\n",
    "fig, ax = plt.subplots()\n",
    "\n",
    "forest_importances.plot.bar(yerr=result.importances_std, ax=ax)\n",
    "\n",
    "ax.set_title(\"Feature importances using permutation on full model\")\n",
    "ax.set_ylabel(\"Mean accuracy decrease\")\n",
    "fig.tight_layout()\n",
    "plt.show()"
   ]
  },
  {
   "cell_type": "markdown",
   "metadata": {
    "id": "jNEIONq241zq"
   },
   "source": [
    "Podemos ver algums comportamentos esperados, como a alta correlação de m^2 e o bairro."
   ]
  },
  {
   "cell_type": "code",
   "execution_count": null,
   "metadata": {
    "id": "pgOGWK8yCPy8"
   },
   "outputs": [],
   "source": [
    "# Importância das características\n",
    "importances = rf.feature_importances_\n",
    "feature_names = X.columns.tolist()\n",
    "# Mostrar as importâncias\n",
    "for feature, importance in zip(feature_names, importances):\n",
    "    print(f\"Feature: {feature}, Importance: {importance}\")"
   ]
  },
  {
   "cell_type": "code",
   "execution_count": null,
   "metadata": {
    "id": "2ZeArwG-2kLQ"
   },
   "outputs": [],
   "source": [
    "\n",
    "\n",
    "# Check if the model is multi-output\n",
    "is_multi_output = hasattr(rf, \"n_outputs_\") and rf.n_outputs_ > 1\n",
    "\n",
    "if is_multi_output:\n",
    "    print(\"The model is a multi-output model.\")\n",
    "else:\n",
    "    print(\"The model is not a multi-output model.\")\n"
   ]
  },
  {
   "cell_type": "code",
   "execution_count": null,
   "metadata": {
    "id": "YJm0Hgzs2qrH"
   },
   "outputs": [],
   "source": [
    "rf.n_outputs_"
   ]
  },
  {
   "cell_type": "code",
   "execution_count": null,
   "metadata": {
    "id": "yyeWOBa7sk-f"
   },
   "outputs": [],
   "source": [
    "from sklearn.inspection import PartialDependenceDisplay\n",
    "\n",
    "disp1 = PartialDependenceDisplay.from_estimator(rf, X_test, [1,5,7],grid_resolution=20, target=[1])"
   ]
  },
  {
   "cell_type": "code",
   "execution_count": null,
   "metadata": {
    "id": "FJjrJsw-so0F"
   },
   "outputs": [],
   "source": [
    "disp1 = PartialDependenceDisplay.from_estimator(rf, X_test, [[1,5,7]],grid_resolution=20, target=[1])"
   ]
  },
  {
   "cell_type": "code",
   "execution_count": null,
   "metadata": {
    "id": "AWnCcIyxsrOs"
   },
   "outputs": [],
   "source": [
    "disp1 = PartialDependenceDisplay.from_estimator(rf, X_test, [1], kind='both', target=[1])"
   ]
  },
  {
   "cell_type": "code",
   "execution_count": null,
   "metadata": {
    "id": "cG9F7LYN5HGM"
   },
   "outputs": [],
   "source": [
    "from sklearn.decomposition import PCA\n",
    "\n",
    "# Step 2: Perform PCA\n",
    "pca = PCA(n_components=2)  # Number of components to keep\n",
    "principal_components = pca.fit_transform(df_2)\n",
    "\n",
    "# Create a DataFrame with the principal components\n",
    "pc_df = pd.DataFrame(data=principal_components, columns=['PC1', 'PC2'])\n",
    "\n",
    "# Step 3: Analyze the results\n",
    "explained_variance = pca.explained_variance_ratio_\n",
    "\n",
    "print(\"Principal Components DataFrame:\")\n",
    "print(pc_df)\n",
    "print(\"\\nExplained Variance Ratio:\")\n",
    "print(explained_variance)"
   ]
  },
  {
   "cell_type": "markdown",
   "metadata": {
    "id": "ZunbXfvOAuf9"
   },
   "source": [
    "Gostariamos também de entender relações bivariadas, uma casa com elevador"
   ]
  },
  {
   "cell_type": "code",
   "execution_count": null,
   "metadata": {
    "id": "vb0CWtMm4Agc"
   },
   "outputs": [],
   "source": [
    "from sklearn.inspection import permutation_importance\n",
    "import matplotlib.pyplot as plt\n",
    "\n",
    "result = permutation_importance(mlp, X_test, Y_test ,n_repeats=100, random_state=0)\n",
    "\n",
    "forest_importances = pd.Series(result.importances_mean, index=X.columns)\n",
    "\n",
    "fig, ax = plt.subplots()\n",
    "\n",
    "forest_importances.plot.bar(yerr=result.importances_std, ax=ax)\n",
    "\n",
    "ax.set_title(\"Feature importances using permutation on full model\")\n",
    "ax.set_ylabel(\"Mean accuracy decrease\")\n",
    "fig.tight_layout()\n",
    "plt.show()"
   ]
  }
 ],
 "metadata": {
  "colab": {
   "provenance": []
  },
  "kernelspec": {
   "display_name": "Python 3 (ipykernel)",
   "language": "python",
   "name": "python3"
  },
  "language_info": {
   "codemirror_mode": {
    "name": "ipython",
    "version": 3
   },
   "file_extension": ".py",
   "mimetype": "text/x-python",
   "name": "python",
   "nbconvert_exporter": "python",
   "pygments_lexer": "ipython3",
   "version": "3.11.7"
  }
 },
 "nbformat": 4,
 "nbformat_minor": 4
}
